{
 "cells": [
  {
   "cell_type": "markdown",
   "id": "8c6f2b85",
   "metadata": {},
   "source": [
    "# A1. US Presidential Speeches "
   ]
  },
  {
   "cell_type": "code",
   "execution_count": 1,
   "id": "64f54770",
   "metadata": {},
   "outputs": [],
   "source": [
    "# import needed libraries\n",
    "import pandas as pd\n",
    "import re\n",
    "import contractions\n",
    "import string\n",
    "import nltk\n",
    "from nltk.corpus import inaugural\n",
    "from nltk.corpus import wordnet\n",
    "from nltk.corpus import stopwords\n",
    "from nltk.tokenize import word_tokenize\n",
    "from nltk.tag import pos_tag\n",
    "from nltk.stem import WordNetLemmatizer\n",
    "from nltk.sentiment.vader import SentimentIntensityAnalyzer"
   ]
  },
  {
   "cell_type": "markdown",
   "id": "9fdab5ed",
   "metadata": {},
   "source": [
    "### Create corpus"
   ]
  },
  {
   "cell_type": "code",
   "execution_count": 2,
   "id": "df03b6b9",
   "metadata": {},
   "outputs": [],
   "source": [
    "df = pd.read_csv(\"C:/Users/echemochek/Downloads/presidents.csv\", header=0)"
   ]
  },
  {
   "cell_type": "code",
   "execution_count": 3,
   "id": "304b6aeb",
   "metadata": {},
   "outputs": [],
   "source": [
    "# create an empty dictionary with information we need\n",
    "corpus_dict = {\n",
    "    \"year\":[],\n",
    "    \"president\":[],\n",
    "    # add party affiliation using preloaded dataframe\n",
    "    \"party\":list(df.party),\n",
    "    \"n_vocab\":[],\n",
    "    \"top5_vocabs\":[],\n",
    "    #\"theme\":[],\n",
    "    \"polarity\":[]\n",
    "    }"
   ]
  },
  {
   "cell_type": "markdown",
   "id": "3c558399",
   "metadata": {},
   "source": [
    "### Add year of speech and name of president"
   ]
  },
  {
   "cell_type": "markdown",
   "id": "c8f1fe86",
   "metadata": {},
   "source": [
    "### Preprocessing steps"
   ]
  },
  {
   "cell_type": "code",
   "execution_count": 4,
   "id": "b3bc71e7",
   "metadata": {},
   "outputs": [],
   "source": [
    "def preprocess(file_name):\n",
    "    # load the speech and convert to lowercase\n",
    "    speech = inaugural.raw(file_name).lower()\n",
    "\n",
    "    # expand contractions\n",
    "    expanded_words = [contractions.fix(word) for word in speech.split()]\n",
    "    speech = ' '.join(expanded_words)\n",
    "\n",
    "    # remove punctuations: using translate\n",
    "    speech = speech.translate(str.maketrans('', '', string.punctuation))\n",
    "\n",
    "    # tokenize\n",
    "    tokens_raw = speech.split()\n",
    "\n",
    "    # limit to tokens with more than 2 characters\n",
    "    tokens_raw = [token for token in tokens_raw if len(token) > 2]\n",
    "\n",
    "    # remove stopwords\n",
    "    stop_words = set(stopwords.words('english'))\n",
    "    tokens_filtered = [token for token in tokens_raw if not token in stop_words]\n",
    "\n",
    "    # add POS tags for ease in lemmatization\n",
    "    tokens_tagged = pos_tag(tokens_filtered)\n",
    "\n",
    "    # define a lemmatizing function that uses POS tags\n",
    "    def get_wordnet_pos(word):\n",
    "        \"\"\"Map POS tag to first character lemmatize() accepts\"\"\"\n",
    "        tag = pos_tag([word])[0][1][0].upper()\n",
    "        tag_dict = {\"J\": wordnet.ADJ,\n",
    "                    \"N\": wordnet.NOUN,\n",
    "                    \"V\": wordnet.VERB,\n",
    "                    \"R\": wordnet.ADV}\n",
    "\n",
    "        return tag_dict.get(tag, wordnet.NOUN)\n",
    "\n",
    "\n",
    "    # Lemmatize filtered_tokens using the defined function\n",
    "    tokens_lemmatized = [WordNetLemmatizer().lemmatize(token, get_wordnet_pos(token)) for token in tokens_filtered]\n",
    "    \n",
    "    return tokens_raw, tokens_lemmatized"
   ]
  },
  {
   "cell_type": "code",
   "execution_count": 6,
   "id": "9a88ece0",
   "metadata": {},
   "outputs": [],
   "source": [
    "\n",
    "for fileid in inaugural.fileids():\n",
    "    # matching pattern to extract name of presidents from fileids\n",
    "    regex = \"\\\\-(.*?)\\\\.\"\n",
    "\n",
    "    # add year of speech and name of president to the dictionary\n",
    "    match = re.findall(regex, fileid)[0] # pattern to extract name\n",
    "\n",
    "    corpus_dict[\"year\"].append(int(fileid[:4]))\n",
    "    corpus_dict[\"president\"].append(match)\n",
    "\n",
    "    # preprocess the text using defined preprocess function\n",
    "    tokens_uncleaned, tokens_cleaned = preprocess(fileid)\n",
    "\n",
    "    # add size of vocabularies to the dictionary\n",
    "    corpus_dict[\"n_vocab\"].append(len(tokens_cleaned))\n",
    "\n",
    "    # add top 5 most used vocabularies\n",
    "    freq = nltk.FreqDist(tokens_cleaned).most_common(5)\n",
    "    top5words = list(list(zip(*freq))[0])\n",
    "    corpus_dict[\"top5_vocabs\"].append(top5words)\n",
    "\n",
    "    # calculating polarity\n",
    "    negative_words = 0\n",
    "    positive_words = 0\n",
    "    pol_words = 0\n",
    "    sum_pol = 0.0\n",
    "\n",
    "    for w in tokens_uncleaned:\n",
    "        pol = SentimentIntensityAnalyzer().polarity_scores(w)\n",
    "        if pol[\"compound\"] != 0:\n",
    "            pol_words += 1\n",
    "            sum_pol = sum_pol + pol[\"compound\"]\n",
    "        if pol[\"neg\"] > 0:\n",
    "            negative_words += 1 \n",
    "        if pol[\"pos\"] > 0:\n",
    "            positive_words += 1\n",
    "\n",
    "    polarity = sum_pol/pol_words\n",
    "    corpus_dict[\"polarity\"].append(round(polarity,2))"
   ]
  },
  {
   "cell_type": "markdown",
   "id": "33005cb4",
   "metadata": {},
   "source": [
    "### Add party affiliation (Democrat/Republican/Other)"
   ]
  },
  {
   "cell_type": "markdown",
   "id": "a49427cd",
   "metadata": {},
   "source": [
    "##### Which presidents have the most/least vocabulary"
   ]
  },
  {
   "cell_type": "markdown",
   "id": "59851031",
   "metadata": {},
   "source": [
    "##### Which president has the least vocabulary"
   ]
  },
  {
   "cell_type": "code",
   "execution_count": null,
   "id": "a718515c",
   "metadata": {},
   "outputs": [],
   "source": []
  },
  {
   "cell_type": "markdown",
   "id": "fbfc447f",
   "metadata": {},
   "source": [
    "##### On average, do Democratic, Republican, or Other presidents have higher vocabulary?"
   ]
  },
  {
   "cell_type": "code",
   "execution_count": null,
   "id": "fe80b18b",
   "metadata": {},
   "outputs": [],
   "source": []
  },
  {
   "cell_type": "markdown",
   "id": "749f733f",
   "metadata": {},
   "source": [
    "##### Create a barplot of presidential vocabulary from the earliest president (Washington) to the latest (Trump) in chronological order. Color code this barplot as blue for Democrat, red for Republican, and gray for Others. (1 point)"
   ]
  },
  {
   "cell_type": "code",
   "execution_count": null,
   "id": "f3d2e064",
   "metadata": {},
   "outputs": [],
   "source": []
  },
  {
   "cell_type": "markdown",
   "id": "1eaa1d0b",
   "metadata": {},
   "source": [
    "##### What are the five most frequently used words (exclusive of stop words) used by each president? What are the five most frequently words used collectively by all Democratic presidents versus Republican presidents? (2 point)"
   ]
  },
  {
   "cell_type": "code",
   "execution_count": null,
   "id": "ed843b2e",
   "metadata": {},
   "outputs": [],
   "source": []
  },
  {
   "cell_type": "markdown",
   "id": "9f15fe33",
   "metadata": {},
   "source": [
    "##### What are the key themes (e.g., freedom, liberty, country, etc.) used by each president in their inaugural speech? (3 points)"
   ]
  },
  {
   "cell_type": "code",
   "execution_count": null,
   "id": "8f0a079f",
   "metadata": {},
   "outputs": [],
   "source": [
    "# top 3 themes\n",
    "# use LDA"
   ]
  },
  {
   "cell_type": "markdown",
   "id": "107b8fea",
   "metadata": {},
   "source": [
    "##### Compute a sentiment (positive/negative) for each presidential speech, and draw a barplot of the sentiment of all presidential speeches in chronological order. Again, color code the speeches as blue for Democrat, red for Republican, and gray for Other. Which of these groups have higher mean sentiment score? Who are the top three presidents with the highest positive sentiment in each group? (2 points)"
   ]
  },
  {
   "cell_type": "code",
   "execution_count": null,
   "id": "f8aa367f",
   "metadata": {},
   "outputs": [],
   "source": []
  }
 ],
 "metadata": {
  "kernelspec": {
   "display_name": "Python 3.9.13 64-bit (microsoft store)",
   "language": "python",
   "name": "python3"
  },
  "language_info": {
   "codemirror_mode": {
    "name": "ipython",
    "version": 3
   },
   "file_extension": ".py",
   "mimetype": "text/x-python",
   "name": "python",
   "nbconvert_exporter": "python",
   "pygments_lexer": "ipython3",
   "version": "3.9.13"
  },
  "vscode": {
   "interpreter": {
    "hash": "bfe9ce709e982859ebd8c1b094ee35d9f73a27801040ad55cc46450c9d5cadda"
   }
  }
 },
 "nbformat": 4,
 "nbformat_minor": 5
}
