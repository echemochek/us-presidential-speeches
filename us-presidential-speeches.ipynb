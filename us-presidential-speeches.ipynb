{
 "cells": [
  {
   "cell_type": "markdown",
   "id": "8c6f2b85",
   "metadata": {},
   "source": [
    "# A1. US Presidential Speeches "
   ]
  },
  {
   "cell_type": "code",
   "execution_count": null,
   "id": "64f54770",
   "metadata": {},
   "outputs": [],
   "source": [
    "# import needed libraries\n",
    "import pandas as pd\n",
    "import seaborn as sns\n",
    "import matplotlib.pyplot as plt\n",
    "import re\n",
    "import contractions\n",
    "import string\n",
    "import nltk\n",
    "from nltk.corpus import inaugural\n",
    "from nltk.corpus import wordnet\n",
    "from nltk.corpus import stopwords\n",
    "from nltk.tokenize import word_tokenize\n",
    "from nltk.tag import pos_tag\n",
    "from nltk.stem import WordNetLemmatizer\n",
    "from nltk.sentiment.vader import SentimentIntensityAnalyzer"
   ]
  },
  {
   "cell_type": "code",
   "execution_count": null,
   "id": "df03b6b9",
   "metadata": {},
   "outputs": [],
   "source": [
    "df = pd.read_csv(\"presidents.csv\", header=0)"
   ]
  },
  {
   "cell_type": "markdown",
   "id": "9fdab5ed",
   "metadata": {},
   "source": [
    "### Create corpus"
   ]
  },
  {
   "cell_type": "code",
   "execution_count": null,
   "id": "304b6aeb",
   "metadata": {},
   "outputs": [],
   "source": [
    "# create an empty dictionary with information we need\n",
    "corpus_dict = {\n",
    "    \"year\":[],\n",
    "    \"president\":[],\n",
    "    # add party affiliation using preloaded dataframe\n",
    "    \"party\":list(df.party),\n",
    "    \"speech\": [],\n",
    "    \"tokens\": [],\n",
    "    \"n_vocab\":[],\n",
    "    \"top5_vocabs\":[],\n",
    "    \"polarity\":[]\n",
    "    }"
   ]
  },
  {
   "cell_type": "markdown",
   "id": "c8f1fe86",
   "metadata": {},
   "source": [
    "### Preprocessing steps"
   ]
  },
  {
   "cell_type": "code",
   "execution_count": null,
   "id": "b3bc71e7",
   "metadata": {},
   "outputs": [],
   "source": [
    "def preprocess(file_name):\n",
    "    # load the speech and convert to lowercase\n",
    "    speech = inaugural.raw(file_name).lower()\n",
    "\n",
    "    # expand contractions\n",
    "    expanded_words = [contractions.fix(word) for word in speech.split()]\n",
    "    speech = ' '.join(expanded_words)\n",
    "\n",
    "    # remove punctuations: using translate\n",
    "    speech = speech.translate(str.maketrans('', '', string.punctuation))\n",
    "\n",
    "    # tokenize\n",
    "    tokens_raw = speech.split()\n",
    "\n",
    "    # limit to tokens with more than 2 characters\n",
    "    tokens_raw = [token for token in tokens_raw if len(token) > 2]\n",
    "\n",
    "    # remove stopwords\n",
    "    stop_words = set(stopwords.words('english'))\n",
    "    more_stopwords = {'may','fellow', 'shall','let','must', 'upon'}\n",
    "    stop_words.update(more_stopwords)\n",
    "\n",
    "    tokens_filtered = [token for token in tokens_raw if not token in stop_words]\n",
    "\n",
    "    # add POS tags for ease in lemmatization\n",
    "    tokens_tagged = pos_tag(tokens_filtered)\n",
    "\n",
    "    # define a lemmatizing function that uses POS tags\n",
    "    def get_wordnet_pos(word):\n",
    "        \"\"\"Map POS tag to first character lemmatize() accepts\"\"\"\n",
    "        tag = pos_tag([word])[0][1][0].upper()\n",
    "        tag_dict = {\"J\": wordnet.ADJ,\n",
    "                    \"N\": wordnet.NOUN,\n",
    "                    \"V\": wordnet.VERB,\n",
    "                    \"R\": wordnet.ADV}\n",
    "\n",
    "        return tag_dict.get(tag, wordnet.NOUN)\n",
    "\n",
    "\n",
    "    # Lemmatize filtered_tokens using the defined function\n",
    "    tokens_lemmatized = [WordNetLemmatizer().lemmatize(token, get_wordnet_pos(token)) for token in tokens_filtered]\n",
    "    \n",
    "    return speech, tokens_raw, tokens_lemmatized"
   ]
  },
  {
   "cell_type": "code",
   "execution_count": null,
   "id": "9a88ece0",
   "metadata": {},
   "outputs": [],
   "source": [
    "\n",
    "for fileid in inaugural.fileids():\n",
    "    # matching pattern to extract name of presidents from fileids\n",
    "    regex = \"\\\\-(.*?)\\\\.\"\n",
    "\n",
    "    # add year of speech and name of president to the dictionary\n",
    "    match = re.findall(regex, fileid)[0] # pattern to extract name\n",
    "\n",
    "    corpus_dict[\"year\"].append(int(fileid[:4]))\n",
    "    corpus_dict[\"president\"].append(match)\n",
    "\n",
    "    # preprocess the text using defined preprocess function\n",
    "    speech_clean, tokens_uncleaned, tokens_cleaned = preprocess(fileid)\n",
    "\n",
    "    # add cleaned speech to the dictionary\n",
    "    corpus_dict[\"speech\"].append(speech_clean)\n",
    "\n",
    "    # add processed tokens to the dictionary\n",
    "    corpus_dict[\"tokens\"].append(tokens_cleaned)\n",
    "\n",
    "    # add size of vocabularies to the dictionary\n",
    "    corpus_dict[\"n_vocab\"].append(len(tokens_cleaned))\n",
    "\n",
    "    # add top 5 most used vocabularies\n",
    "    freq = nltk.FreqDist(tokens_cleaned).most_common(5)\n",
    "    top5words = list(list(zip(*freq))[0])\n",
    "    corpus_dict[\"top5_vocabs\"].append(top5words)\n",
    "\n",
    "    # calculating polarity\n",
    "    negative_words = 0\n",
    "    positive_words = 0\n",
    "    pol_words = 0\n",
    "    sum_pol = 0.0\n",
    "\n",
    "    for w in tokens_uncleaned:\n",
    "        pol = SentimentIntensityAnalyzer().polarity_scores(w)\n",
    "        if pol[\"compound\"] != 0:\n",
    "            pol_words += 1\n",
    "            sum_pol = sum_pol + pol[\"compound\"]\n",
    "        if pol[\"neg\"] > 0:\n",
    "            negative_words += 1 \n",
    "        if pol[\"pos\"] > 0:\n",
    "            positive_words += 1\n",
    "\n",
    "    polarity = sum_pol/pol_words\n",
    "    corpus_dict[\"polarity\"].append(round(polarity,2))"
   ]
  },
  {
   "cell_type": "markdown",
   "id": "3c558399",
   "metadata": {},
   "source": [
    "### Add year of speech and name of president"
   ]
  },
  {
   "cell_type": "code",
   "execution_count": null,
   "id": "8cf4fff2",
   "metadata": {},
   "outputs": [],
   "source": [
    "# added in the code above (inside for loop)"
   ]
  },
  {
   "cell_type": "markdown",
   "id": "33005cb4",
   "metadata": {},
   "source": [
    "### Add party affiliation (Democrat/Republican/Other)"
   ]
  },
  {
   "cell_type": "code",
   "execution_count": null,
   "id": "56d800d6",
   "metadata": {},
   "outputs": [],
   "source": [
    "# added in the code above (inside for loop)"
   ]
  },
  {
   "cell_type": "code",
   "execution_count": null,
   "id": "2f1c1e24",
   "metadata": {},
   "outputs": [],
   "source": [
    "# convert the defined dictionary to a Pandas dataframe\n",
    "data = pd.DataFrame.from_dict(corpus_dict)\n",
    "\n",
    "# save the created dataframe as a csv file\n",
    "# data.to_csv(\"df_speeches.csv\", index=False)"
   ]
  },
  {
   "cell_type": "code",
   "execution_count": null,
   "id": "9700c37c",
   "metadata": {},
   "outputs": [],
   "source": [
    "# load the saved dataframe\n",
    "df_updated = pd.read_csv(\"df_speeches.csv\")"
   ]
  },
  {
   "cell_type": "markdown",
   "id": "a49427cd",
   "metadata": {},
   "source": [
    "##### Which presidents have the most vocabulary"
   ]
  },
  {
   "cell_type": "code",
   "execution_count": null,
   "id": "6394f368",
   "metadata": {},
   "outputs": [],
   "source": [
    "# president with most vocabularies\n",
    "df_updated.sort_values(by=['n_vocab'], ascending=False)[['year','president', 'n_vocab']][:5]"
   ]
  },
  {
   "cell_type": "markdown",
   "id": "59851031",
   "metadata": {},
   "source": [
    "##### Which president has the least vocabulary"
   ]
  },
  {
   "cell_type": "code",
   "execution_count": null,
   "id": "a718515c",
   "metadata": {},
   "outputs": [],
   "source": [
    "# presidents with least vocabularies\n",
    "df_updated.sort_values(by=['n_vocab'], ascending=False)[['year','president', 'n_vocab']][-3:]"
   ]
  },
  {
   "cell_type": "markdown",
   "id": "fbfc447f",
   "metadata": {},
   "source": [
    "##### On average, do Democratic, Republican, or Other presidents have higher vocabulary?"
   ]
  },
  {
   "cell_type": "code",
   "execution_count": 50,
   "id": "fe80b18b",
   "metadata": {},
   "outputs": [
    {
     "data": {
      "text/html": [
       "<div>\n",
       "<style scoped>\n",
       "    .dataframe tbody tr th:only-of-type {\n",
       "        vertical-align: middle;\n",
       "    }\n",
       "\n",
       "    .dataframe tbody tr th {\n",
       "        vertical-align: top;\n",
       "    }\n",
       "\n",
       "    .dataframe thead th {\n",
       "        text-align: right;\n",
       "    }\n",
       "</style>\n",
       "<table border=\"1\" class=\"dataframe\">\n",
       "  <thead>\n",
       "    <tr style=\"text-align: right;\">\n",
       "      <th></th>\n",
       "      <th>n_vocab</th>\n",
       "    </tr>\n",
       "    <tr>\n",
       "      <th>party</th>\n",
       "      <th></th>\n",
       "    </tr>\n",
       "  </thead>\n",
       "  <tbody>\n",
       "    <tr>\n",
       "      <th>Democrat</th>\n",
       "      <td>938.173913</td>\n",
       "    </tr>\n",
       "    <tr>\n",
       "      <th>Other</th>\n",
       "      <td>1065.615385</td>\n",
       "    </tr>\n",
       "    <tr>\n",
       "      <th>Republican</th>\n",
       "      <td>1200.000000</td>\n",
       "    </tr>\n",
       "  </tbody>\n",
       "</table>\n",
       "</div>"
      ],
      "text/plain": [
       "                n_vocab\n",
       "party                  \n",
       "Democrat     938.173913\n",
       "Other       1065.615385\n",
       "Republican  1200.000000"
      ]
     },
     "execution_count": 50,
     "metadata": {},
     "output_type": "execute_result"
    }
   ],
   "source": [
    "df_updated[[\"party\", \"n_vocab\"]].groupby([\"party\"]).mean()"
   ]
  },
  {
   "cell_type": "markdown",
   "id": "749f733f",
   "metadata": {},
   "source": [
    "##### Create a barplot of presidential vocabulary from the earliest president (Washington) to the latest (Trump) in chronological order. Color code this barplot as blue for Democrat, red for Republican, and gray for Others. (1 point)"
   ]
  },
  {
   "cell_type": "code",
   "execution_count": 54,
   "id": "f3d2e064",
   "metadata": {},
   "outputs": [
    {
     "data": {
      "text/plain": [
       "(array([ 0,  1,  2,  3,  4,  5,  6,  7,  8,  9, 10, 11, 12, 13, 14, 15, 16,\n",
       "        17, 18, 19, 20, 21, 22, 23, 24, 25, 26, 27, 28, 29, 30, 31, 32, 33,\n",
       "        34, 35]),\n",
       " [Text(0, 0, 'Washington'),\n",
       "  Text(1, 0, 'Adams'),\n",
       "  Text(2, 0, 'Jefferson'),\n",
       "  Text(3, 0, 'Madison'),\n",
       "  Text(4, 0, 'Monroe'),\n",
       "  Text(5, 0, 'Jackson'),\n",
       "  Text(6, 0, 'VanBuren'),\n",
       "  Text(7, 0, 'Harrison'),\n",
       "  Text(8, 0, 'Polk'),\n",
       "  Text(9, 0, 'Taylor'),\n",
       "  Text(10, 0, 'Pierce'),\n",
       "  Text(11, 0, 'Buchanan'),\n",
       "  Text(12, 0, 'Lincoln'),\n",
       "  Text(13, 0, 'Grant'),\n",
       "  Text(14, 0, 'Hayes'),\n",
       "  Text(15, 0, 'Garfield'),\n",
       "  Text(16, 0, 'Cleveland'),\n",
       "  Text(17, 0, 'McKinley'),\n",
       "  Text(18, 0, 'Roosevelt'),\n",
       "  Text(19, 0, 'Taft'),\n",
       "  Text(20, 0, 'Wilson'),\n",
       "  Text(21, 0, 'Harding'),\n",
       "  Text(22, 0, 'Coolidge'),\n",
       "  Text(23, 0, 'Hoover'),\n",
       "  Text(24, 0, 'Truman'),\n",
       "  Text(25, 0, 'Eisenhower'),\n",
       "  Text(26, 0, 'Kennedy'),\n",
       "  Text(27, 0, 'Johnson'),\n",
       "  Text(28, 0, 'Nixon'),\n",
       "  Text(29, 0, 'Carter'),\n",
       "  Text(30, 0, 'Reagan'),\n",
       "  Text(31, 0, 'Bush'),\n",
       "  Text(32, 0, 'Clinton'),\n",
       "  Text(33, 0, 'Obama'),\n",
       "  Text(34, 0, 'Trump'),\n",
       "  Text(35, 0, 'Biden')])"
      ]
     },
     "execution_count": 54,
     "metadata": {},
     "output_type": "execute_result"
    },
    {
     "data": {
      "image/png": "[encoded data removed]",
      "text/plain": [
       "<Figure size 2160x576 with 1 Axes>"
      ]
     },
     "metadata": {
      "needs_background": "light"
     },
     "output_type": "display_data"
    }
   ],
   "source": [
    "# color palette as dictionary\n",
    "palette = {\"Democrat\":\"tab:blue\",\n",
    "           \"Republican\":\"tab:red\", \n",
    "           \"Other\":\"tab:gray\"}\n",
    "\n",
    "plt.figure(figsize=(30,8))\n",
    "\n",
    "x_labels = list(df_updated.president)\n",
    "\n",
    "fig = sns.barplot(\n",
    "    data=df_updated, \n",
    "    x='president', y='n_vocab', \n",
    "    hue='party',\n",
    "    palette=palette,\n",
    "    errorbar=None)\n",
    "\n",
    "plt.xticks(rotation=90)"
   ]
  },
  {
   "cell_type": "markdown",
   "id": "1eaa1d0b",
   "metadata": {},
   "source": [
    "##### What are the five most frequently used words (exclusive of stop words) used by each president? "
   ]
  },
  {
   "cell_type": "code",
   "execution_count": null,
   "id": "ed843b2e",
   "metadata": {},
   "outputs": [],
   "source": [
    "# added to code above (code populating the dictionary)"
   ]
  },
  {
   "cell_type": "markdown",
   "id": "f46e7110",
   "metadata": {},
   "source": [
    "##### What are the five most frequently words used collectively by all Democratic presidents versus Republican presidents? (2 point)"
   ]
  },
  {
   "cell_type": "code",
   "execution_count": null,
   "id": "7159097d",
   "metadata": {},
   "outputs": [],
   "source": [
    "# create a lists of all Democrat/Republican vocabulary to analyze\n",
    "\n",
    "import ast\n",
    "\n",
    "all_democrats = []\n",
    "all_republicans = []\n",
    "\n",
    "for i in range(len(df_updated)):\n",
    "    if df_updated.party[i] == \"Republican\":\n",
    "\n",
    "        # convert cell value from string to a list \n",
    "        x = ast.literal_eval(df_updated['tokens'][i])\n",
    "        x = [n.strip() for n in x]\n",
    "        # populate the Republican list if republican\n",
    "        all_republicans = all_republicans + x\n",
    "    \n",
    "    elif df_updated.party[i] == \"Democrat\":\n",
    "\n",
    "        # convert cell value from string to a list \n",
    "        x = ast.literal_eval(df_updated['tokens'][i])\n",
    "        x = [n.strip() for n in x]\n",
    "        # populate the Democrat list if democrat\n",
    "        all_democrats = all_democrats + x\n",
    "\n",
    "# use the list of tokens to calculate frequencies and get top 5 words\n",
    "freq_republicans = nltk.FreqDist(all_republicans).most_common(5)\n",
    "top5words_republicans = list(list(zip(*freq_republicans))[0])\n",
    "\n",
    "# use the list of tokens to calculate frequencies and get top 5 words\n",
    "freq_democrats = nltk.FreqDist(all_democrats).most_common(5)\n",
    "top5words_democrats = list(list(zip(*freq_democrats))[0])\n",
    "\n",
    "print(f\"5 most frequently used words by Republican presidents:\\n\\t{top5words_republicans}\")\n",
    "print(\"\\n\")\n",
    "print(f\"5 most frequently used words by Democratic presidents:\\n\\t{top5words_democrats}\")"
   ]
  },
  {
   "cell_type": "markdown",
   "id": "9f15fe33",
   "metadata": {},
   "source": [
    "##### What are the key themes (e.g., freedom, liberty, country, etc.) used by each president in their inaugural speech? (3 points)"
   ]
  },
  {
   "cell_type": "code",
   "execution_count": null,
   "id": "8f0a079f",
   "metadata": {},
   "outputs": [],
   "source": [
    "# top 3 themes\n",
    "# use LDA"
   ]
  },
  {
   "cell_type": "markdown",
   "id": "107b8fea",
   "metadata": {},
   "source": [
    "##### Compute a sentiment (positive/negative) for each presidential speech, and draw a barplot of the sentiment of all presidential speeches in chronological order. Again, color code the speeches as blue for Democrat, red for Republican, and gray for Other. "
   ]
  },
  {
   "cell_type": "code",
   "execution_count": 53,
   "id": "0d01df34",
   "metadata": {},
   "outputs": [
    {
     "data": {
      "text/plain": [
       "(array([ 0,  1,  2,  3,  4,  5,  6,  7,  8,  9, 10, 11, 12, 13, 14, 15, 16,\n",
       "        17, 18, 19, 20, 21, 22, 23, 24, 25, 26, 27, 28, 29, 30, 31, 32, 33,\n",
       "        34, 35]),\n",
       " [Text(0, 0, 'Washington'),\n",
       "  Text(1, 0, 'Adams'),\n",
       "  Text(2, 0, 'Jefferson'),\n",
       "  Text(3, 0, 'Madison'),\n",
       "  Text(4, 0, 'Monroe'),\n",
       "  Text(5, 0, 'Jackson'),\n",
       "  Text(6, 0, 'VanBuren'),\n",
       "  Text(7, 0, 'Harrison'),\n",
       "  Text(8, 0, 'Polk'),\n",
       "  Text(9, 0, 'Taylor'),\n",
       "  Text(10, 0, 'Pierce'),\n",
       "  Text(11, 0, 'Buchanan'),\n",
       "  Text(12, 0, 'Lincoln'),\n",
       "  Text(13, 0, 'Grant'),\n",
       "  Text(14, 0, 'Hayes'),\n",
       "  Text(15, 0, 'Garfield'),\n",
       "  Text(16, 0, 'Cleveland'),\n",
       "  Text(17, 0, 'McKinley'),\n",
       "  Text(18, 0, 'Roosevelt'),\n",
       "  Text(19, 0, 'Taft'),\n",
       "  Text(20, 0, 'Wilson'),\n",
       "  Text(21, 0, 'Harding'),\n",
       "  Text(22, 0, 'Coolidge'),\n",
       "  Text(23, 0, 'Hoover'),\n",
       "  Text(24, 0, 'Truman'),\n",
       "  Text(25, 0, 'Eisenhower'),\n",
       "  Text(26, 0, 'Kennedy'),\n",
       "  Text(27, 0, 'Johnson'),\n",
       "  Text(28, 0, 'Nixon'),\n",
       "  Text(29, 0, 'Carter'),\n",
       "  Text(30, 0, 'Reagan'),\n",
       "  Text(31, 0, 'Bush'),\n",
       "  Text(32, 0, 'Clinton'),\n",
       "  Text(33, 0, 'Obama'),\n",
       "  Text(34, 0, 'Trump'),\n",
       "  Text(35, 0, 'Biden')])"
      ]
     },
     "execution_count": 53,
     "metadata": {},
     "output_type": "execute_result"
    },
    {
     "data": {
      "image/png": "[encoded data removed]",
      "text/plain": [
       "<Figure size 1728x864 with 1 Axes>"
      ]
     },
     "metadata": {
      "needs_background": "light"
     },
     "output_type": "display_data"
    }
   ],
   "source": [
    "# color palette as dictionary\n",
    "palette = {\"Democrat\":\"tab:blue\",\n",
    "           \"Republican\":\"tab:red\", \n",
    "           \"Other\":\"tab:gray\"}\n",
    "\n",
    "plt.figure(figsize=(24,12))\n",
    "\n",
    "x_labels = list(df_updated.president)\n",
    "\n",
    "fig = sns.barplot(\n",
    "    data=df_updated, \n",
    "    x='president', y='polarity', \n",
    "    hue='party',\n",
    "    palette=palette,\n",
    "    errorbar=None)\n",
    "\n",
    "plt.xticks(rotation=90)"
   ]
  },
  {
   "cell_type": "markdown",
   "id": "19bd00d2",
   "metadata": {},
   "source": [
    "##### Which of these groups have higher mean sentiment score? "
   ]
  },
  {
   "cell_type": "code",
   "execution_count": 51,
   "id": "51c590a0",
   "metadata": {},
   "outputs": [
    {
     "data": {
      "text/html": [
       "<div>\n",
       "<style scoped>\n",
       "    .dataframe tbody tr th:only-of-type {\n",
       "        vertical-align: middle;\n",
       "    }\n",
       "\n",
       "    .dataframe tbody tr th {\n",
       "        vertical-align: top;\n",
       "    }\n",
       "\n",
       "    .dataframe thead th {\n",
       "        text-align: right;\n",
       "    }\n",
       "</style>\n",
       "<table border=\"1\" class=\"dataframe\">\n",
       "  <thead>\n",
       "    <tr style=\"text-align: right;\">\n",
       "      <th></th>\n",
       "      <th>polarity</th>\n",
       "    </tr>\n",
       "    <tr>\n",
       "      <th>party</th>\n",
       "      <th></th>\n",
       "    </tr>\n",
       "  </thead>\n",
       "  <tbody>\n",
       "    <tr>\n",
       "      <th>Democrat</th>\n",
       "      <td>0.191739</td>\n",
       "    </tr>\n",
       "    <tr>\n",
       "      <th>Other</th>\n",
       "      <td>0.203846</td>\n",
       "    </tr>\n",
       "    <tr>\n",
       "      <th>Republican</th>\n",
       "      <td>0.214783</td>\n",
       "    </tr>\n",
       "  </tbody>\n",
       "</table>\n",
       "</div>"
      ],
      "text/plain": [
       "            polarity\n",
       "party               \n",
       "Democrat    0.191739\n",
       "Other       0.203846\n",
       "Republican  0.214783"
      ]
     },
     "execution_count": 51,
     "metadata": {},
     "output_type": "execute_result"
    }
   ],
   "source": [
    "df_updated[[\"party\", \"polarity\"]].groupby([\"party\"]).mean()"
   ]
  },
  {
   "cell_type": "markdown",
   "id": "c6194e61",
   "metadata": {},
   "source": [
    "##### Who are the top three presidents with the highest positive sentiment in each group? (2 points)"
   ]
  },
  {
   "cell_type": "code",
   "execution_count": 52,
   "metadata": {},
   "outputs": [
    {
     "data": {
      "text/html": [
       "<div>\n",
       "<style scoped>\n",
       "    .dataframe tbody tr th:only-of-type {\n",
       "        vertical-align: middle;\n",
       "    }\n",
       "\n",
       "    .dataframe tbody tr th {\n",
       "        vertical-align: top;\n",
       "    }\n",
       "\n",
       "    .dataframe thead th {\n",
       "        text-align: right;\n",
       "    }\n",
       "</style>\n",
       "<table border=\"1\" class=\"dataframe\">\n",
       "  <thead>\n",
       "    <tr style=\"text-align: right;\">\n",
       "      <th></th>\n",
       "      <th></th>\n",
       "      <th>president</th>\n",
       "      <th>polarity</th>\n",
       "    </tr>\n",
       "    <tr>\n",
       "      <th>party</th>\n",
       "      <th></th>\n",
       "      <th></th>\n",
       "      <th></th>\n",
       "    </tr>\n",
       "  </thead>\n",
       "  <tbody>\n",
       "    <tr>\n",
       "      <th rowspan=\"3\" valign=\"top\">Democrat</th>\n",
       "      <th>0</th>\n",
       "      <td>Jackson</td>\n",
       "      <td>0.30</td>\n",
       "    </tr>\n",
       "    <tr>\n",
       "      <th>1</th>\n",
       "      <td>Cleveland</td>\n",
       "      <td>0.26</td>\n",
       "    </tr>\n",
       "    <tr>\n",
       "      <th>2</th>\n",
       "      <td>Jackson</td>\n",
       "      <td>0.26</td>\n",
       "    </tr>\n",
       "    <tr>\n",
       "      <th rowspan=\"3\" valign=\"top\">Other</th>\n",
       "      <th>0</th>\n",
       "      <td>Taylor</td>\n",
       "      <td>0.32</td>\n",
       "    </tr>\n",
       "    <tr>\n",
       "      <th>1</th>\n",
       "      <td>Washington</td>\n",
       "      <td>0.29</td>\n",
       "    </tr>\n",
       "    <tr>\n",
       "      <th>2</th>\n",
       "      <td>Adams</td>\n",
       "      <td>0.28</td>\n",
       "    </tr>\n",
       "    <tr>\n",
       "      <th rowspan=\"3\" valign=\"top\">Republican</th>\n",
       "      <th>0</th>\n",
       "      <td>Bush</td>\n",
       "      <td>0.34</td>\n",
       "    </tr>\n",
       "    <tr>\n",
       "      <th>1</th>\n",
       "      <td>Hayes</td>\n",
       "      <td>0.29</td>\n",
       "    </tr>\n",
       "    <tr>\n",
       "      <th>2</th>\n",
       "      <td>Nixon</td>\n",
       "      <td>0.26</td>\n",
       "    </tr>\n",
       "  </tbody>\n",
       "</table>\n",
       "</div>"
      ],
      "text/plain": [
       "               president  polarity\n",
       "party                             \n",
       "Democrat   0     Jackson      0.30\n",
       "           1   Cleveland      0.26\n",
       "           2     Jackson      0.26\n",
       "Other      0      Taylor      0.32\n",
       "           1  Washington      0.29\n",
       "           2       Adams      0.28\n",
       "Republican 0        Bush      0.34\n",
       "           1       Hayes      0.29\n",
       "           2       Nixon      0.26"
      ]
     },
     "execution_count": 52,
     "metadata": {},
     "output_type": "execute_result"
    }
   ],
   "source": [
    "# df.groupby('id')['value'].nlargest(3)\n",
    "g = df_updated.groupby('party').apply(lambda x:x.sort_values(by='polarity', ascending=False).head(3).reset_index(drop=True))\n",
    "g[['president', 'polarity']]"
   ]
  }
 ],
 "metadata": {
  "kernelspec": {
   "display_name": "Python 3.9.13 64-bit (microsoft store)",
   "language": "python",
   "name": "python3"
  },
  "language_info": {
   "codemirror_mode": {
    "name": "ipython",
    "version": 3
   },
   "file_extension": ".py",
   "mimetype": "text/x-python",
   "name": "python",
   "nbconvert_exporter": "python",
   "pygments_lexer": "ipython3",
   "version": "3.9.13"
  },
  "vscode": {
   "interpreter": {
    "hash": "bfe9ce709e982859ebd8c1b094ee35d9f73a27801040ad55cc46450c9d5cadda"
   }
  }
 },
 "nbformat": 4,
 "nbformat_minor": 5
}
