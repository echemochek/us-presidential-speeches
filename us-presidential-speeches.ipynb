{
 "cells": [
  {
   "cell_type": "markdown",
   "id": "8c6f2b85",
   "metadata": {},
   "source": [
    "# A1. US Presidential Speeches "
   ]
  },
  {
   "cell_type": "code",
   "execution_count": null,
   "id": "45b61cea",
   "metadata": {},
   "outputs": [],
   "source": [
    "# !pip3 install nltk\n",
    "# !pip3 install contractions"
   ]
  },
  {
   "cell_type": "code",
   "execution_count": null,
   "id": "64f54770",
   "metadata": {},
   "outputs": [],
   "source": [
    "# import needed libraries\n",
    "import nltk\n",
    "from nltk.corpus import wordnet\n",
    "from nltk.corpus import stopwords\n",
    "from nltk.tokenize import word_tokenize\n",
    "from nltk.tag import pos_tag\n",
    "from nltk.stem import WordNetLemmatizer\n",
    "import contractions\n",
    "import string"
   ]
  },
  {
   "cell_type": "markdown",
   "id": "9fdab5ed",
   "metadata": {},
   "source": [
    "### Create corpus"
   ]
  },
  {
   "cell_type": "code",
   "execution_count": null,
   "id": "304b6aeb",
   "metadata": {},
   "outputs": [],
   "source": []
  },
  {
   "cell_type": "code",
   "execution_count": null,
   "id": "79be0e3c",
   "metadata": {},
   "outputs": [],
   "source": [
    "from nltk.corpus import inaugural\n",
    "\n",
    "speech = inaugural.raw('1789-Washington.txt')"
   ]
  },
  {
   "cell_type": "markdown",
   "id": "3c558399",
   "metadata": {},
   "source": [
    "### Add year of speech"
   ]
  },
  {
   "cell_type": "markdown",
   "id": "33005cb4",
   "metadata": {},
   "source": [
    "### Add party affiliation (Democrat/Republican/Other)"
   ]
  },
  {
   "cell_type": "markdown",
   "id": "c8f1fe86",
   "metadata": {},
   "source": [
    "### Preprocessing"
   ]
  },
  {
   "cell_type": "code",
   "execution_count": null,
   "id": "9a88ece0",
   "metadata": {},
   "outputs": [],
   "source": [
    "# lowercase\n",
    "speech = speech.lower()\n",
    "speech[:200]"
   ]
  },
  {
   "cell_type": "code",
   "execution_count": null,
   "id": "dc50c0df",
   "metadata": {},
   "outputs": [],
   "source": [
    "# expand contractions\n",
    "contractions.add('fellow-citizens', 'fellow citizens')\n",
    "\n",
    "expanded_words = [contractions.fix(word) for word in speech.split()]\n",
    "speech = ' '.join(expanded_words)\n",
    "speech[:200]"
   ]
  },
  {
   "cell_type": "code",
   "execution_count": null,
   "id": "5f20e864",
   "metadata": {},
   "outputs": [],
   "source": [
    "# remove punctuations: using translate\n",
    "speech = speech.translate(str.maketrans('', '', string.punctuation))\n",
    "speech[:200]"
   ]
  },
  {
   "cell_type": "code",
   "execution_count": null,
   "id": "6e279822",
   "metadata": {},
   "outputs": [],
   "source": [
    "# tokenize\n",
    "tokens = speech.split()\n",
    "\n",
    "len(tokens), tokens[:5]"
   ]
  },
  {
   "cell_type": "code",
   "execution_count": null,
   "id": "c36eca2d",
   "metadata": {},
   "outputs": [],
   "source": [
    "tokens = [token for token in tokens if len(token) > 2]\n",
    "len(tokens), tokens[:5]"
   ]
  },
  {
   "cell_type": "code",
   "execution_count": null,
   "id": "818cd5f1",
   "metadata": {},
   "outputs": [],
   "source": [
    "# remove stopwords\n",
    "stop_words = set(stopwords.words('english'))\n",
    "\n",
    "tokens_filtered = [token for token in tokens if not token in stop_words]\n",
    "\n",
    "len(tokens_filtered), tokens_filtered[:5]"
   ]
  },
  {
   "cell_type": "code",
   "execution_count": null,
   "id": "31dbc5a4",
   "metadata": {},
   "outputs": [],
   "source": [
    "# remove digits and words combined with digits \n"
   ]
  },
  {
   "cell_type": "code",
   "execution_count": null,
   "id": "81a66951",
   "metadata": {},
   "outputs": [],
   "source": [
    "tokens_tagged = pos_tag(tokens_filtered)"
   ]
  },
  {
   "cell_type": "code",
   "execution_count": null,
   "id": "a5e214bb",
   "metadata": {},
   "outputs": [],
   "source": [
    "# Lemmatize with POS Tag\n",
    "\n",
    "def get_wordnet_pos(word):\n",
    "    \"\"\"Map POS tag to first character lemmatize() accepts\"\"\"\n",
    "    tag = pos_tag([word])[0][1][0].upper()\n",
    "    tag_dict = {\"J\": wordnet.ADJ,\n",
    "                \"N\": wordnet.NOUN,\n",
    "                \"V\": wordnet.VERB,\n",
    "                \"R\": wordnet.ADV}\n",
    "\n",
    "    return tag_dict.get(tag, wordnet.NOUN)\n",
    "\n",
    "\n",
    "# Init Lemmatizer\n",
    "lemmatizer = WordNetLemmatizer()\n",
    "\n",
    "# Lemmatize filtered_tokens with the appropriate POS tags\n",
    "sentence = \"The striped bats are hanging on their feet for best\"\n",
    "print([lemmatizer.lemmatize(token, get_wordnet_pos(token)) for token in tokens_filtered])"
   ]
  },
  {
   "cell_type": "code",
   "execution_count": null,
   "id": "ff394234",
   "metadata": {},
   "outputs": [],
   "source": [
    "# remove extra spaces\n",
    "speech"
   ]
  },
  {
   "cell_type": "markdown",
   "id": "a49427cd",
   "metadata": {},
   "source": [
    "##### Which presidents have the most/least vocabulary"
   ]
  },
  {
   "cell_type": "markdown",
   "id": "59851031",
   "metadata": {},
   "source": [
    "##### Which president has the least vocabulary"
   ]
  },
  {
   "cell_type": "markdown",
   "id": "fbfc447f",
   "metadata": {},
   "source": [
    "##### On average, do Democratic, Republican, or Other presidents have higher vocabulary?"
   ]
  },
  {
   "cell_type": "markdown",
   "id": "749f733f",
   "metadata": {},
   "source": [
    "##### Create a barplot of presidential vocabulary from the earliest president (Washington) to the latest (Trump) in chronological order. Color code this barplot as blue for Democrat, red for Republican, and gray for Others. (1 point)"
   ]
  },
  {
   "cell_type": "markdown",
   "id": "1eaa1d0b",
   "metadata": {},
   "source": [
    "##### What are the five most frequently used words (exclusive of stop words) used by each president? What are the five most frequently words used collectively by all Democratic presidents versus Republican presidents? (2 point)"
   ]
  },
  {
   "cell_type": "markdown",
   "id": "9f15fe33",
   "metadata": {},
   "source": [
    "##### What are the key themes (e.g., freedom, liberty, country, etc.) used by each president in their inaugural speech? (3 points)"
   ]
  },
  {
   "cell_type": "markdown",
   "id": "107b8fea",
   "metadata": {},
   "source": [
    "##### Compute a sentiment (positive/negative) for each presidential speech, and draw a barplot of the sentiment of all presidential speeches in chronological order. Again, color code the speeches as blue for Democrat, red for Republican, and gray for Other. Which of these groups have higher mean sentiment score? Who are the top three presidents with the highest positive sentiment in each group? (2 points)"
   ]
  }
 ],
 "metadata": {
  "kernelspec": {
   "display_name": "Python 3.9.13 64-bit (microsoft store)",
   "language": "python",
   "name": "python3"
  },
  "language_info": {
   "codemirror_mode": {
    "name": "ipython",
    "version": 3
   },
   "file_extension": ".py",
   "mimetype": "text/x-python",
   "name": "python",
   "nbconvert_exporter": "python",
   "pygments_lexer": "ipython3",
   "version": "3.9.13"
  },
  "vscode": {
   "interpreter": {
    "hash": "bfe9ce709e982859ebd8c1b094ee35d9f73a27801040ad55cc46450c9d5cadda"
   }
  }
 },
 "nbformat": 4,
 "nbformat_minor": 5
}
