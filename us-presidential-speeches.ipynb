{
 "cells": [
  {
   "cell_type": "markdown",
   "id": "8c6f2b85",
   "metadata": {},
   "source": [
    "# A1. US Presidential Speeches "
   ]
  },
  {
   "cell_type": "code",
   "execution_count": 40,
   "id": "64f54770",
   "metadata": {},
   "outputs": [],
   "source": [
    "# import needed libraries\n",
    "import pandas as pd\n",
    "import seaborn as sns\n",
    "import matplotlib.pyplot as plt\n",
    "import re\n",
    "import contractions\n",
    "import string\n",
    "import nltk\n",
    "from nltk.corpus import inaugural\n",
    "from nltk.corpus import wordnet\n",
    "from nltk.corpus import stopwords\n",
    "from nltk.tokenize import word_tokenize\n",
    "from nltk.tag import pos_tag\n",
    "from nltk.stem import WordNetLemmatizer\n",
    "from nltk.sentiment.vader import SentimentIntensityAnalyzer"
   ]
  },
  {
   "cell_type": "markdown",
   "id": "9fdab5ed",
   "metadata": {},
   "source": [
    "### Create corpus"
   ]
  },
  {
   "cell_type": "code",
   "execution_count": 18,
   "id": "df03b6b9",
   "metadata": {},
   "outputs": [],
   "source": [
    "df = pd.read_csv(\"presidents.csv\", header=0)"
   ]
  },
  {
   "cell_type": "code",
   "execution_count": 3,
   "id": "304b6aeb",
   "metadata": {},
   "outputs": [],
   "source": [
    "# create an empty dictionary with information we need\n",
    "corpus_dict = {\n",
    "    \"year\":[],\n",
    "    \"president\":[],\n",
    "    # add party affiliation using preloaded dataframe\n",
    "    \"party\":list(df.party),\n",
    "    \"n_vocab\":[],\n",
    "    \"top5_vocabs\":[],\n",
    "    #\"theme\":[],\n",
    "    \"polarity\":[]\n",
    "    }"
   ]
  },
  {
   "cell_type": "markdown",
   "id": "3c558399",
   "metadata": {},
   "source": [
    "### Add year of speech and name of president"
   ]
  },
  {
   "cell_type": "markdown",
   "id": "c8f1fe86",
   "metadata": {},
   "source": [
    "### Preprocessing steps"
   ]
  },
  {
   "cell_type": "code",
   "execution_count": 4,
   "id": "b3bc71e7",
   "metadata": {},
   "outputs": [],
   "source": [
    "def preprocess(file_name):\n",
    "    # load the speech and convert to lowercase\n",
    "    speech = inaugural.raw(file_name).lower()\n",
    "\n",
    "    # expand contractions\n",
    "    expanded_words = [contractions.fix(word) for word in speech.split()]\n",
    "    speech = ' '.join(expanded_words)\n",
    "\n",
    "    # remove punctuations: using translate\n",
    "    speech = speech.translate(str.maketrans('', '', string.punctuation))\n",
    "\n",
    "    # tokenize\n",
    "    tokens_raw = speech.split()\n",
    "\n",
    "    # limit to tokens with more than 2 characters\n",
    "    tokens_raw = [token for token in tokens_raw if len(token) > 2]\n",
    "\n",
    "    # remove stopwords\n",
    "    stop_words = set(stopwords.words('english'))\n",
    "    tokens_filtered = [token for token in tokens_raw if not token in stop_words]\n",
    "\n",
    "    # add POS tags for ease in lemmatization\n",
    "    tokens_tagged = pos_tag(tokens_filtered)\n",
    "\n",
    "    # define a lemmatizing function that uses POS tags\n",
    "    def get_wordnet_pos(word):\n",
    "        \"\"\"Map POS tag to first character lemmatize() accepts\"\"\"\n",
    "        tag = pos_tag([word])[0][1][0].upper()\n",
    "        tag_dict = {\"J\": wordnet.ADJ,\n",
    "                    \"N\": wordnet.NOUN,\n",
    "                    \"V\": wordnet.VERB,\n",
    "                    \"R\": wordnet.ADV}\n",
    "\n",
    "        return tag_dict.get(tag, wordnet.NOUN)\n",
    "\n",
    "\n",
    "    # Lemmatize filtered_tokens using the defined function\n",
    "    tokens_lemmatized = [WordNetLemmatizer().lemmatize(token, get_wordnet_pos(token)) for token in tokens_filtered]\n",
    "    \n",
    "    return tokens_raw, tokens_lemmatized"
   ]
  },
  {
   "cell_type": "code",
   "execution_count": 5,
   "id": "9a88ece0",
   "metadata": {},
   "outputs": [],
   "source": [
    "\n",
    "for fileid in inaugural.fileids():\n",
    "    # matching pattern to extract name of presidents from fileids\n",
    "    regex = \"\\\\-(.*?)\\\\.\"\n",
    "\n",
    "    # add year of speech and name of president to the dictionary\n",
    "    match = re.findall(regex, fileid)[0] # pattern to extract name\n",
    "\n",
    "    corpus_dict[\"year\"].append(int(fileid[:4]))\n",
    "    corpus_dict[\"president\"].append(match)\n",
    "\n",
    "    # preprocess the text using defined preprocess function\n",
    "    tokens_uncleaned, tokens_cleaned = preprocess(fileid)\n",
    "\n",
    "    # add size of vocabularies to the dictionary\n",
    "    corpus_dict[\"n_vocab\"].append(len(tokens_cleaned))\n",
    "\n",
    "    # add top 5 most used vocabularies\n",
    "    freq = nltk.FreqDist(tokens_cleaned).most_common(5)\n",
    "    top5words = list(list(zip(*freq))[0])\n",
    "    corpus_dict[\"top5_vocabs\"].append(top5words)\n",
    "\n",
    "    # calculating polarity\n",
    "    negative_words = 0\n",
    "    positive_words = 0\n",
    "    pol_words = 0\n",
    "    sum_pol = 0.0\n",
    "\n",
    "    for w in tokens_uncleaned:\n",
    "        pol = SentimentIntensityAnalyzer().polarity_scores(w)\n",
    "        if pol[\"compound\"] != 0:\n",
    "            pol_words += 1\n",
    "            sum_pol = sum_pol + pol[\"compound\"]\n",
    "        if pol[\"neg\"] > 0:\n",
    "            negative_words += 1 \n",
    "        if pol[\"pos\"] > 0:\n",
    "            positive_words += 1\n",
    "\n",
    "    polarity = sum_pol/pol_words\n",
    "    corpus_dict[\"polarity\"].append(round(polarity,2))"
   ]
  },
  {
   "cell_type": "code",
   "execution_count": 17,
   "id": "2f1c1e24",
   "metadata": {},
   "outputs": [],
   "source": [
    "data = pd.DataFrame.from_dict(corpus_dict)\n",
    "# data.to_csv(\"df_speeches.csv\")"
   ]
  },
  {
   "cell_type": "code",
   "execution_count": 28,
   "id": "9700c37c",
   "metadata": {},
   "outputs": [],
   "source": [
    "# load the updated dataframe\n",
    "df_updated = pd.read_csv(\"df_speeches.csv\")"
   ]
  },
  {
   "cell_type": "markdown",
   "id": "33005cb4",
   "metadata": {},
   "source": [
    "### Add party affiliation (Democrat/Republican/Other)"
   ]
  },
  {
   "cell_type": "markdown",
   "id": "a49427cd",
   "metadata": {},
   "source": [
    "##### Which presidents have the most vocabulary"
   ]
  },
  {
   "cell_type": "code",
   "execution_count": null,
   "id": "6394f368",
   "metadata": {},
   "outputs": [],
   "source": [
    "# president with most vocabularies\n",
    "df_updated.sort_values(by=['n_vocab'], ascending=False)[['year','president', 'n_vocab']][:5]"
   ]
  },
  {
   "cell_type": "markdown",
   "id": "59851031",
   "metadata": {},
   "source": [
    "##### Which president has the least vocabulary"
   ]
  },
  {
   "cell_type": "code",
   "execution_count": null,
   "id": "a718515c",
   "metadata": {},
   "outputs": [],
   "source": [
    "# presidents with least vocabularies\n",
    "df_updated.sort_values(by=['n_vocab'], ascending=False)[['year','president', 'n_vocab']][-3:]"
   ]
  },
  {
   "cell_type": "markdown",
   "id": "fbfc447f",
   "metadata": {},
   "source": [
    "##### On average, do Democratic, Republican, or Other presidents have higher vocabulary?"
   ]
  },
  {
   "cell_type": "code",
   "execution_count": 35,
   "id": "fe80b18b",
   "metadata": {},
   "outputs": [
    {
     "data": {
      "text/html": [
       "<div>\n",
       "<style scoped>\n",
       "    .dataframe tbody tr th:only-of-type {\n",
       "        vertical-align: middle;\n",
       "    }\n",
       "\n",
       "    .dataframe tbody tr th {\n",
       "        vertical-align: top;\n",
       "    }\n",
       "\n",
       "    .dataframe thead th {\n",
       "        text-align: right;\n",
       "    }\n",
       "</style>\n",
       "<table border=\"1\" class=\"dataframe\">\n",
       "  <thead>\n",
       "    <tr style=\"text-align: right;\">\n",
       "      <th></th>\n",
       "      <th>n_vocab</th>\n",
       "    </tr>\n",
       "    <tr>\n",
       "      <th>party</th>\n",
       "      <th></th>\n",
       "    </tr>\n",
       "  </thead>\n",
       "  <tbody>\n",
       "    <tr>\n",
       "      <th>Democrat</th>\n",
       "      <td>965.173913</td>\n",
       "    </tr>\n",
       "    <tr>\n",
       "      <th>Other</th>\n",
       "      <td>1090.000000</td>\n",
       "    </tr>\n",
       "    <tr>\n",
       "      <th>Republican</th>\n",
       "      <td>1232.000000</td>\n",
       "    </tr>\n",
       "  </tbody>\n",
       "</table>\n",
       "</div>"
      ],
      "text/plain": [
       "                n_vocab\n",
       "party                  \n",
       "Democrat     965.173913\n",
       "Other       1090.000000\n",
       "Republican  1232.000000"
      ]
     },
     "execution_count": 35,
     "metadata": {},
     "output_type": "execute_result"
    }
   ],
   "source": [
    "df_updated[[\"party\", \"n_vocab\"]].groupby([\"party\"]).mean()"
   ]
  },
  {
   "cell_type": "markdown",
   "id": "749f733f",
   "metadata": {},
   "source": [
    "##### Create a barplot of presidential vocabulary from the earliest president (Washington) to the latest (Trump) in chronological order. Color code this barplot as blue for Democrat, red for Republican, and gray for Others. (1 point)"
   ]
  },
  {
   "cell_type": "code",
   "execution_count": 69,
   "id": "f3d2e064",
   "metadata": {},
   "outputs": [
    {
     "data": {
      "text/plain": [
       "(array([ 0,  1,  2,  3,  4,  5,  6,  7,  8,  9, 10, 11, 12, 13, 14, 15, 16,\n",
       "        17, 18, 19, 20, 21, 22, 23, 24, 25, 26, 27, 28, 29, 30, 31, 32, 33,\n",
       "        34, 35]),\n",
       " [Text(0, 0, 'Washington'),\n",
       "  Text(1, 0, 'Adams'),\n",
       "  Text(2, 0, 'Jefferson'),\n",
       "  Text(3, 0, 'Madison'),\n",
       "  Text(4, 0, 'Monroe'),\n",
       "  Text(5, 0, 'Jackson'),\n",
       "  Text(6, 0, 'VanBuren'),\n",
       "  Text(7, 0, 'Harrison'),\n",
       "  Text(8, 0, 'Polk'),\n",
       "  Text(9, 0, 'Taylor'),\n",
       "  Text(10, 0, 'Pierce'),\n",
       "  Text(11, 0, 'Buchanan'),\n",
       "  Text(12, 0, 'Lincoln'),\n",
       "  Text(13, 0, 'Grant'),\n",
       "  Text(14, 0, 'Hayes'),\n",
       "  Text(15, 0, 'Garfield'),\n",
       "  Text(16, 0, 'Cleveland'),\n",
       "  Text(17, 0, 'McKinley'),\n",
       "  Text(18, 0, 'Roosevelt'),\n",
       "  Text(19, 0, 'Taft'),\n",
       "  Text(20, 0, 'Wilson'),\n",
       "  Text(21, 0, 'Harding'),\n",
       "  Text(22, 0, 'Coolidge'),\n",
       "  Text(23, 0, 'Hoover'),\n",
       "  Text(24, 0, 'Truman'),\n",
       "  Text(25, 0, 'Eisenhower'),\n",
       "  Text(26, 0, 'Kennedy'),\n",
       "  Text(27, 0, 'Johnson'),\n",
       "  Text(28, 0, 'Nixon'),\n",
       "  Text(29, 0, 'Carter'),\n",
       "  Text(30, 0, 'Reagan'),\n",
       "  Text(31, 0, 'Bush'),\n",
       "  Text(32, 0, 'Clinton'),\n",
       "  Text(33, 0, 'Obama'),\n",
       "  Text(34, 0, 'Trump'),\n",
       "  Text(35, 0, 'Biden')])"
      ]
     },
     "execution_count": 69,
     "metadata": {},
     "output_type": "execute_result"
    },
    {
     "data": {
      "image/png": "[encoded data removed]",
      "text/plain": [
       "<Figure size 2160x576 with 1 Axes>"
      ]
     },
     "metadata": {
      "needs_background": "light"
     },
     "output_type": "display_data"
    }
   ],
   "source": [
    "# color palette as dictionary\n",
    "palette = {\"Democrat\":\"tab:blue\",\n",
    "           \"Republican\":\"tab:red\", \n",
    "           \"Other\":\"tab:gray\"}\n",
    "\n",
    "plt.figure(figsize=(30,8))\n",
    "\n",
    "x_labels = list(df_updated.president)\n",
    "\n",
    "fig = sns.barplot(\n",
    "    data=df_updated, \n",
    "    x='president', y='n_vocab', \n",
    "    hue='party',\n",
    "    palette=palette,\n",
    "    errorbar=None)\n",
    "\n",
    "# plt.xlabel(\"President\", size=14)\n",
    "#plt.ylabel(\"No. of vocabularies\", size=14)\n",
    "plt.xticks(rotation=90)\n",
    "\n",
    "# fig.set_xticklabels(x_labels)\n",
    "# fig.bar_label(fig.containers[0], label_type='edge')\n",
    "\n",
    "# plt.savefig(\"How_to_specify_your_own_color_pallete_Seaborn_Python.png\")"
   ]
  },
  {
   "cell_type": "markdown",
   "id": "1eaa1d0b",
   "metadata": {},
   "source": [
    "##### What are the five most frequently used words (exclusive of stop words) used by each president? What are the five most frequently words used collectively by all Democratic presidents versus Republican presidents? (2 point)"
   ]
  },
  {
   "cell_type": "code",
   "execution_count": null,
   "id": "ed843b2e",
   "metadata": {},
   "outputs": [],
   "source": []
  },
  {
   "cell_type": "markdown",
   "id": "9f15fe33",
   "metadata": {},
   "source": [
    "##### What are the key themes (e.g., freedom, liberty, country, etc.) used by each president in their inaugural speech? (3 points)"
   ]
  },
  {
   "cell_type": "code",
   "execution_count": 6,
   "id": "8f0a079f",
   "metadata": {},
   "outputs": [],
   "source": [
    "# top 3 themes\n",
    "# use LDA"
   ]
  },
  {
   "cell_type": "markdown",
   "id": "107b8fea",
   "metadata": {},
   "source": [
    "##### Compute a sentiment (positive/negative) for each presidential speech, and draw a barplot of the sentiment of all presidential speeches in chronological order. Again, color code the speeches as blue for Democrat, red for Republican, and gray for Other. Which of these groups have higher mean sentiment score? Who are the top three presidents with the highest positive sentiment in each group? (2 points)"
   ]
  },
  {
   "cell_type": "code",
   "execution_count": 25,
   "id": "0d01df34",
   "metadata": {},
   "outputs": [
    {
     "data": {
      "text/html": [
       "<div>\n",
       "<style scoped>\n",
       "    .dataframe tbody tr th:only-of-type {\n",
       "        vertical-align: middle;\n",
       "    }\n",
       "\n",
       "    .dataframe tbody tr th {\n",
       "        vertical-align: top;\n",
       "    }\n",
       "\n",
       "    .dataframe thead th {\n",
       "        text-align: right;\n",
       "    }\n",
       "</style>\n",
       "<table border=\"1\" class=\"dataframe\">\n",
       "  <thead>\n",
       "    <tr style=\"text-align: right;\">\n",
       "      <th></th>\n",
       "      <th>year</th>\n",
       "      <th>president</th>\n",
       "      <th>n_vocab</th>\n",
       "    </tr>\n",
       "  </thead>\n",
       "  <tbody>\n",
       "    <tr>\n",
       "      <th>13</th>\n",
       "      <td>1841</td>\n",
       "      <td>Harrison</td>\n",
       "      <td>3776</td>\n",
       "    </tr>\n",
       "    <tr>\n",
       "      <th>30</th>\n",
       "      <td>1909</td>\n",
       "      <td>Taft</td>\n",
       "      <td>2562</td>\n",
       "    </tr>\n",
       "    <tr>\n",
       "      <th>14</th>\n",
       "      <td>1845</td>\n",
       "      <td>Polk</td>\n",
       "      <td>2260</td>\n",
       "    </tr>\n",
       "    <tr>\n",
       "      <th>25</th>\n",
       "      <td>1889</td>\n",
       "      <td>Harrison</td>\n",
       "      <td>2079</td>\n",
       "    </tr>\n",
       "    <tr>\n",
       "      <th>8</th>\n",
       "      <td>1821</td>\n",
       "      <td>Monroe</td>\n",
       "      <td>2022</td>\n",
       "    </tr>\n",
       "  </tbody>\n",
       "</table>\n",
       "</div>"
      ],
      "text/plain": [
       "    year president  n_vocab\n",
       "13  1841  Harrison     3776\n",
       "30  1909      Taft     2562\n",
       "14  1845      Polk     2260\n",
       "25  1889  Harrison     2079\n",
       "8   1821    Monroe     2022"
      ]
     },
     "execution_count": 25,
     "metadata": {},
     "output_type": "execute_result"
    }
   ],
   "source": []
  },
  {
   "cell_type": "code",
   "execution_count": 27,
   "id": "f5a78ba7",
   "metadata": {},
   "outputs": [
    {
     "data": {
      "text/html": [
       "<div>\n",
       "<style scoped>\n",
       "    .dataframe tbody tr th:only-of-type {\n",
       "        vertical-align: middle;\n",
       "    }\n",
       "\n",
       "    .dataframe tbody tr th {\n",
       "        vertical-align: top;\n",
       "    }\n",
       "\n",
       "    .dataframe thead th {\n",
       "        text-align: right;\n",
       "    }\n",
       "</style>\n",
       "<table border=\"1\" class=\"dataframe\">\n",
       "  <thead>\n",
       "    <tr style=\"text-align: right;\">\n",
       "      <th></th>\n",
       "      <th>year</th>\n",
       "      <th>president</th>\n",
       "      <th>n_vocab</th>\n",
       "    </tr>\n",
       "  </thead>\n",
       "  <tbody>\n",
       "    <tr>\n",
       "      <th>19</th>\n",
       "      <td>1865</td>\n",
       "      <td>Lincoln</td>\n",
       "      <td>334</td>\n",
       "    </tr>\n",
       "    <tr>\n",
       "      <th>39</th>\n",
       "      <td>1945</td>\n",
       "      <td>Roosevelt</td>\n",
       "      <td>251</td>\n",
       "    </tr>\n",
       "    <tr>\n",
       "      <th>1</th>\n",
       "      <td>1793</td>\n",
       "      <td>Washington</td>\n",
       "      <td>60</td>\n",
       "    </tr>\n",
       "  </tbody>\n",
       "</table>\n",
       "</div>"
      ],
      "text/plain": [
       "    year   president  n_vocab\n",
       "19  1865     Lincoln      334\n",
       "39  1945   Roosevelt      251\n",
       "1   1793  Washington       60"
      ]
     },
     "execution_count": 27,
     "metadata": {},
     "output_type": "execute_result"
    }
   ],
   "source": [
    "# presidents with least vocabularies\n",
    "df_updated.sort_values(by=['n_vocab'], ascending=False)[['year','president', 'n_vocab']][-3:]"
   ]
  },
  {
   "cell_type": "code",
   "execution_count": null,
   "id": "93b127d9",
   "metadata": {},
   "outputs": [],
   "source": []
  }
 ],
 "metadata": {
  "kernelspec": {
   "display_name": "Python 3.9.13 64-bit (microsoft store)",
   "language": "python",
   "name": "python3"
  },
  "language_info": {
   "codemirror_mode": {
    "name": "ipython",
    "version": 3
   },
   "file_extension": ".py",
   "mimetype": "text/x-python",
   "name": "python",
   "nbconvert_exporter": "python",
   "pygments_lexer": "ipython3",
   "version": "3.9.13"
  },
  "vscode": {
   "interpreter": {
    "hash": "bfe9ce709e982859ebd8c1b094ee35d9f73a27801040ad55cc46450c9d5cadda"
   }
  }
 },
 "nbformat": 4,
 "nbformat_minor": 5
}
